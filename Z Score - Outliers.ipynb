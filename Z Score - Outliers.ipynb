{
 "cells": [
  {
   "cell_type": "code",
   "execution_count": 6,
   "id": "3ac4865a",
   "metadata": {},
   "outputs": [],
   "source": [
    "import numpy as np\n",
    "import matplotlib.pyplot as plt\n",
    "%matplotlib inline\n",
    "import seaborn as sns "
   ]
  },
  {
   "cell_type": "markdown",
   "id": "d33bddf7",
   "metadata": {},
   "source": [
    "# Outliers using Zscore"
   ]
  },
  {
   "cell_type": "code",
   "execution_count": 8,
   "id": "e3fc4d9a",
   "metadata": {},
   "outputs": [],
   "source": [
    "df=sns.load_dataset('tips')"
   ]
  },
  {
   "cell_type": "code",
   "execution_count": 9,
   "id": "2fcb556f",
   "metadata": {},
   "outputs": [
    {
     "data": {
      "text/html": [
       "<div>\n",
       "<style scoped>\n",
       "    .dataframe tbody tr th:only-of-type {\n",
       "        vertical-align: middle;\n",
       "    }\n",
       "\n",
       "    .dataframe tbody tr th {\n",
       "        vertical-align: top;\n",
       "    }\n",
       "\n",
       "    .dataframe thead th {\n",
       "        text-align: right;\n",
       "    }\n",
       "</style>\n",
       "<table border=\"1\" class=\"dataframe\">\n",
       "  <thead>\n",
       "    <tr style=\"text-align: right;\">\n",
       "      <th></th>\n",
       "      <th>total_bill</th>\n",
       "      <th>tip</th>\n",
       "      <th>sex</th>\n",
       "      <th>smoker</th>\n",
       "      <th>day</th>\n",
       "      <th>time</th>\n",
       "      <th>size</th>\n",
       "    </tr>\n",
       "  </thead>\n",
       "  <tbody>\n",
       "    <tr>\n",
       "      <th>0</th>\n",
       "      <td>16.99</td>\n",
       "      <td>1.01</td>\n",
       "      <td>Female</td>\n",
       "      <td>No</td>\n",
       "      <td>Sun</td>\n",
       "      <td>Dinner</td>\n",
       "      <td>2</td>\n",
       "    </tr>\n",
       "    <tr>\n",
       "      <th>1</th>\n",
       "      <td>10.34</td>\n",
       "      <td>1.66</td>\n",
       "      <td>Male</td>\n",
       "      <td>No</td>\n",
       "      <td>Sun</td>\n",
       "      <td>Dinner</td>\n",
       "      <td>3</td>\n",
       "    </tr>\n",
       "    <tr>\n",
       "      <th>2</th>\n",
       "      <td>21.01</td>\n",
       "      <td>3.50</td>\n",
       "      <td>Male</td>\n",
       "      <td>No</td>\n",
       "      <td>Sun</td>\n",
       "      <td>Dinner</td>\n",
       "      <td>3</td>\n",
       "    </tr>\n",
       "  </tbody>\n",
       "</table>\n",
       "</div>"
      ],
      "text/plain": [
       "   total_bill   tip     sex smoker  day    time  size\n",
       "0       16.99  1.01  Female     No  Sun  Dinner     2\n",
       "1       10.34  1.66    Male     No  Sun  Dinner     3\n",
       "2       21.01  3.50    Male     No  Sun  Dinner     3"
      ]
     },
     "execution_count": 9,
     "metadata": {},
     "output_type": "execute_result"
    }
   ],
   "source": [
    "df.head(3)"
   ]
  },
  {
   "cell_type": "code",
   "execution_count": 10,
   "id": "df315b9e",
   "metadata": {},
   "outputs": [
    {
     "data": {
      "text/plain": [
       "<Axes: >"
      ]
     },
     "execution_count": 10,
     "metadata": {},
     "output_type": "execute_result"
    },
    {
     "data": {
      "image/png": "[encoded data removed]",
      "text/plain": [
       "<Figure size 640x480 with 1 Axes>"
      ]
     },
     "metadata": {},
     "output_type": "display_data"
    }
   ],
   "source": [
    "sns.boxplot(df['total_bill'])"
   ]
  },
  {
   "cell_type": "code",
   "execution_count": 11,
   "id": "02e66644",
   "metadata": {},
   "outputs": [
    {
     "data": {
      "text/html": [
       "<div>\n",
       "<style scoped>\n",
       "    .dataframe tbody tr th:only-of-type {\n",
       "        vertical-align: middle;\n",
       "    }\n",
       "\n",
       "    .dataframe tbody tr th {\n",
       "        vertical-align: top;\n",
       "    }\n",
       "\n",
       "    .dataframe thead th {\n",
       "        text-align: right;\n",
       "    }\n",
       "</style>\n",
       "<table border=\"1\" class=\"dataframe\">\n",
       "  <thead>\n",
       "    <tr style=\"text-align: right;\">\n",
       "      <th></th>\n",
       "      <th>total_bill</th>\n",
       "      <th>tip</th>\n",
       "      <th>size</th>\n",
       "    </tr>\n",
       "  </thead>\n",
       "  <tbody>\n",
       "    <tr>\n",
       "      <th>count</th>\n",
       "      <td>244.000000</td>\n",
       "      <td>244.000000</td>\n",
       "      <td>244.000000</td>\n",
       "    </tr>\n",
       "    <tr>\n",
       "      <th>mean</th>\n",
       "      <td>19.785943</td>\n",
       "      <td>2.998279</td>\n",
       "      <td>2.569672</td>\n",
       "    </tr>\n",
       "    <tr>\n",
       "      <th>std</th>\n",
       "      <td>8.902412</td>\n",
       "      <td>1.383638</td>\n",
       "      <td>0.951100</td>\n",
       "    </tr>\n",
       "    <tr>\n",
       "      <th>min</th>\n",
       "      <td>3.070000</td>\n",
       "      <td>1.000000</td>\n",
       "      <td>1.000000</td>\n",
       "    </tr>\n",
       "    <tr>\n",
       "      <th>25%</th>\n",
       "      <td>13.347500</td>\n",
       "      <td>2.000000</td>\n",
       "      <td>2.000000</td>\n",
       "    </tr>\n",
       "    <tr>\n",
       "      <th>50%</th>\n",
       "      <td>17.795000</td>\n",
       "      <td>2.900000</td>\n",
       "      <td>2.000000</td>\n",
       "    </tr>\n",
       "    <tr>\n",
       "      <th>75%</th>\n",
       "      <td>24.127500</td>\n",
       "      <td>3.562500</td>\n",
       "      <td>3.000000</td>\n",
       "    </tr>\n",
       "    <tr>\n",
       "      <th>max</th>\n",
       "      <td>50.810000</td>\n",
       "      <td>10.000000</td>\n",
       "      <td>6.000000</td>\n",
       "    </tr>\n",
       "  </tbody>\n",
       "</table>\n",
       "</div>"
      ],
      "text/plain": [
       "       total_bill         tip        size\n",
       "count  244.000000  244.000000  244.000000\n",
       "mean    19.785943    2.998279    2.569672\n",
       "std      8.902412    1.383638    0.951100\n",
       "min      3.070000    1.000000    1.000000\n",
       "25%     13.347500    2.000000    2.000000\n",
       "50%     17.795000    2.900000    2.000000\n",
       "75%     24.127500    3.562500    3.000000\n",
       "max     50.810000   10.000000    6.000000"
      ]
     },
     "execution_count": 11,
     "metadata": {},
     "output_type": "execute_result"
    }
   ],
   "source": [
    "df.describe()"
   ]
  },
  {
   "cell_type": "code",
   "execution_count": 22,
   "id": "a686010e",
   "metadata": {},
   "outputs": [],
   "source": [
    "Outliers_total_bill =[]"
   ]
  },
  {
   "cell_type": "code",
   "execution_count": 23,
   "id": "4ea7f8ed",
   "metadata": {},
   "outputs": [],
   "source": [
    "def detectoutliers(data):\n",
    "    threshold=3  # defines third standard deviation\n",
    "    mean=np.mean(data)\n",
    "    std=np.std(data)\n",
    "    \n",
    "    for i in data:\n",
    "        Zscore=(i-mean)/std\n",
    "        if np.abs(Zscore) > threshold:\n",
    "            Outliers_total_bill.append(i)\n",
    "    \n",
    "    return Outliers_total_bill"
   ]
  },
  {
   "cell_type": "code",
   "execution_count": 27,
   "id": "a2b938a5",
   "metadata": {},
   "outputs": [],
   "source": [
    "df_total_bills=df['total_bill']"
   ]
  },
  {
   "cell_type": "code",
   "execution_count": 28,
   "id": "3cc454d7",
   "metadata": {},
   "outputs": [
    {
     "data": {
      "text/plain": [
       "(array([ 7., 42., 68., 51., 31., 19., 12.,  7.,  3.,  4.]),\n",
       " array([ 3.07 ,  7.844, 12.618, 17.392, 22.166, 26.94 , 31.714, 36.488,\n",
       "        41.262, 46.036, 50.81 ]),\n",
       " <BarContainer object of 10 artists>)"
      ]
     },
     "execution_count": 28,
     "metadata": {},
     "output_type": "execute_result"
    },
    {
     "data": {
      "image/png": "[encoded data removed]",
      "text/plain": [
       "<Figure size 640x480 with 1 Axes>"
      ]
     },
     "metadata": {},
     "output_type": "display_data"
    }
   ],
   "source": [
    "plt.hist(df_total_bills)"
   ]
  },
  {
   "cell_type": "code",
   "execution_count": 29,
   "id": "539d33e1",
   "metadata": {},
   "outputs": [
    {
     "data": {
      "text/plain": [
       "[48.27, 48.17, 50.81, 48.33, 48.27, 48.17, 50.81, 48.33]"
      ]
     },
     "execution_count": 29,
     "metadata": {},
     "output_type": "execute_result"
    }
   ],
   "source": [
    "detectoutliers(df_total_bills)"
   ]
  },
  {
   "cell_type": "markdown",
   "id": "744d5a64",
   "metadata": {},
   "source": [
    "."
   ]
  },
  {
   "cell_type": "code",
   "execution_count": 30,
   "id": "2da4b4af",
   "metadata": {},
   "outputs": [],
   "source": [
    "#  Just like this lets find outlies of another tables "
   ]
  },
  {
   "cell_type": "code",
   "execution_count": 31,
   "id": "40fe7cd2",
   "metadata": {},
   "outputs": [
    {
     "data": {
      "text/html": [
       "<div>\n",
       "<style scoped>\n",
       "    .dataframe tbody tr th:only-of-type {\n",
       "        vertical-align: middle;\n",
       "    }\n",
       "\n",
       "    .dataframe tbody tr th {\n",
       "        vertical-align: top;\n",
       "    }\n",
       "\n",
       "    .dataframe thead th {\n",
       "        text-align: right;\n",
       "    }\n",
       "</style>\n",
       "<table border=\"1\" class=\"dataframe\">\n",
       "  <thead>\n",
       "    <tr style=\"text-align: right;\">\n",
       "      <th></th>\n",
       "      <th>total_bill</th>\n",
       "      <th>tip</th>\n",
       "      <th>sex</th>\n",
       "      <th>smoker</th>\n",
       "      <th>day</th>\n",
       "      <th>time</th>\n",
       "      <th>size</th>\n",
       "    </tr>\n",
       "  </thead>\n",
       "  <tbody>\n",
       "    <tr>\n",
       "      <th>0</th>\n",
       "      <td>16.99</td>\n",
       "      <td>1.01</td>\n",
       "      <td>Female</td>\n",
       "      <td>No</td>\n",
       "      <td>Sun</td>\n",
       "      <td>Dinner</td>\n",
       "      <td>2</td>\n",
       "    </tr>\n",
       "    <tr>\n",
       "      <th>1</th>\n",
       "      <td>10.34</td>\n",
       "      <td>1.66</td>\n",
       "      <td>Male</td>\n",
       "      <td>No</td>\n",
       "      <td>Sun</td>\n",
       "      <td>Dinner</td>\n",
       "      <td>3</td>\n",
       "    </tr>\n",
       "    <tr>\n",
       "      <th>2</th>\n",
       "      <td>21.01</td>\n",
       "      <td>3.50</td>\n",
       "      <td>Male</td>\n",
       "      <td>No</td>\n",
       "      <td>Sun</td>\n",
       "      <td>Dinner</td>\n",
       "      <td>3</td>\n",
       "    </tr>\n",
       "    <tr>\n",
       "      <th>3</th>\n",
       "      <td>23.68</td>\n",
       "      <td>3.31</td>\n",
       "      <td>Male</td>\n",
       "      <td>No</td>\n",
       "      <td>Sun</td>\n",
       "      <td>Dinner</td>\n",
       "      <td>2</td>\n",
       "    </tr>\n",
       "    <tr>\n",
       "      <th>4</th>\n",
       "      <td>24.59</td>\n",
       "      <td>3.61</td>\n",
       "      <td>Female</td>\n",
       "      <td>No</td>\n",
       "      <td>Sun</td>\n",
       "      <td>Dinner</td>\n",
       "      <td>4</td>\n",
       "    </tr>\n",
       "    <tr>\n",
       "      <th>...</th>\n",
       "      <td>...</td>\n",
       "      <td>...</td>\n",
       "      <td>...</td>\n",
       "      <td>...</td>\n",
       "      <td>...</td>\n",
       "      <td>...</td>\n",
       "      <td>...</td>\n",
       "    </tr>\n",
       "    <tr>\n",
       "      <th>239</th>\n",
       "      <td>29.03</td>\n",
       "      <td>5.92</td>\n",
       "      <td>Male</td>\n",
       "      <td>No</td>\n",
       "      <td>Sat</td>\n",
       "      <td>Dinner</td>\n",
       "      <td>3</td>\n",
       "    </tr>\n",
       "    <tr>\n",
       "      <th>240</th>\n",
       "      <td>27.18</td>\n",
       "      <td>2.00</td>\n",
       "      <td>Female</td>\n",
       "      <td>Yes</td>\n",
       "      <td>Sat</td>\n",
       "      <td>Dinner</td>\n",
       "      <td>2</td>\n",
       "    </tr>\n",
       "    <tr>\n",
       "      <th>241</th>\n",
       "      <td>22.67</td>\n",
       "      <td>2.00</td>\n",
       "      <td>Male</td>\n",
       "      <td>Yes</td>\n",
       "      <td>Sat</td>\n",
       "      <td>Dinner</td>\n",
       "      <td>2</td>\n",
       "    </tr>\n",
       "    <tr>\n",
       "      <th>242</th>\n",
       "      <td>17.82</td>\n",
       "      <td>1.75</td>\n",
       "      <td>Male</td>\n",
       "      <td>No</td>\n",
       "      <td>Sat</td>\n",
       "      <td>Dinner</td>\n",
       "      <td>2</td>\n",
       "    </tr>\n",
       "    <tr>\n",
       "      <th>243</th>\n",
       "      <td>18.78</td>\n",
       "      <td>3.00</td>\n",
       "      <td>Female</td>\n",
       "      <td>No</td>\n",
       "      <td>Thur</td>\n",
       "      <td>Dinner</td>\n",
       "      <td>2</td>\n",
       "    </tr>\n",
       "  </tbody>\n",
       "</table>\n",
       "<p>244 rows × 7 columns</p>\n",
       "</div>"
      ],
      "text/plain": [
       "     total_bill   tip     sex smoker   day    time  size\n",
       "0         16.99  1.01  Female     No   Sun  Dinner     2\n",
       "1         10.34  1.66    Male     No   Sun  Dinner     3\n",
       "2         21.01  3.50    Male     No   Sun  Dinner     3\n",
       "3         23.68  3.31    Male     No   Sun  Dinner     2\n",
       "4         24.59  3.61  Female     No   Sun  Dinner     4\n",
       "..          ...   ...     ...    ...   ...     ...   ...\n",
       "239       29.03  5.92    Male     No   Sat  Dinner     3\n",
       "240       27.18  2.00  Female    Yes   Sat  Dinner     2\n",
       "241       22.67  2.00    Male    Yes   Sat  Dinner     2\n",
       "242       17.82  1.75    Male     No   Sat  Dinner     2\n",
       "243       18.78  3.00  Female     No  Thur  Dinner     2\n",
       "\n",
       "[244 rows x 7 columns]"
      ]
     },
     "execution_count": 31,
     "metadata": {},
     "output_type": "execute_result"
    }
   ],
   "source": [
    "df"
   ]
  },
  {
   "cell_type": "code",
   "execution_count": 36,
   "id": "a582bda3",
   "metadata": {},
   "outputs": [],
   "source": [
    "df_tip=df['tip']\n",
    "df_size=df['size']"
   ]
  },
  {
   "cell_type": "code",
   "execution_count": 37,
   "id": "927df532",
   "metadata": {},
   "outputs": [
    {
     "data": {
      "text/plain": [
       "<Axes: >"
      ]
     },
     "execution_count": 37,
     "metadata": {},
     "output_type": "execute_result"
    },
    {
     "data": {
      "image/png": "[encoded data removed]",
      "text/plain": [
       "<Figure size 640x480 with 1 Axes>"
      ]
     },
     "metadata": {},
     "output_type": "display_data"
    }
   ],
   "source": [
    "sns.boxplot(df_tip)"
   ]
  },
  {
   "cell_type": "code",
   "execution_count": 38,
   "id": "41574456",
   "metadata": {},
   "outputs": [
    {
     "data": {
      "text/plain": [
       "<Axes: >"
      ]
     },
     "execution_count": 38,
     "metadata": {},
     "output_type": "execute_result"
    },
    {
     "data": {
      "image/png": "[encoded data removed]",
      "text/plain": [
       "<Figure size 640x480 with 1 Axes>"
      ]
     },
     "metadata": {},
     "output_type": "display_data"
    }
   ],
   "source": [
    "sns.boxplot(df_size)"
   ]
  },
  {
   "cell_type": "code",
   "execution_count": 39,
   "id": "2f2f993b",
   "metadata": {},
   "outputs": [],
   "source": [
    "# Handle these outliers"
   ]
  },
  {
   "cell_type": "markdown",
   "id": "6673f0eb",
   "metadata": {},
   "source": [
    "# "
   ]
  },
  {
   "cell_type": "markdown",
   "id": "59260776",
   "metadata": {},
   "source": [
    "# IQR "
   ]
  },
  {
   "cell_type": "code",
   "execution_count": 42,
   "id": "e44281f3",
   "metadata": {},
   "outputs": [],
   "source": [
    "# Interquartile range\n",
    "# min  25% median 75% max\n",
    "# lower fence and higher fence "
   ]
  },
  {
   "cell_type": "code",
   "execution_count": 44,
   "id": "9989053c",
   "metadata": {},
   "outputs": [],
   "source": [
    "# steps:\n",
    "#     1 sort data\n",
    "#     2 calculate Q1 and Q3\n",
    "#     3 IQR (Q3-Q1)\n",
    "#     4 find lower fence (Q1-1.5*(IQR) )\n",
    "#     5 Find higher fence (Q3+1.5*(IQR))"
   ]
  },
  {
   "cell_type": "code",
   "execution_count": 45,
   "id": "e1bc68e0",
   "metadata": {},
   "outputs": [
    {
     "data": {
      "text/plain": [
       "[3.07,\n",
       " 5.75,\n",
       " 7.25,\n",
       " 7.25,\n",
       " 7.51,\n",
       " 7.56,\n",
       " 7.74,\n",
       " 8.35,\n",
       " 8.51,\n",
       " 8.52,\n",
       " 8.58,\n",
       " 8.77,\n",
       " 9.55,\n",
       " 9.6,\n",
       " 9.68,\n",
       " 9.78,\n",
       " 9.94,\n",
       " 10.07,\n",
       " 10.07,\n",
       " 10.09,\n",
       " 10.27,\n",
       " 10.29,\n",
       " 10.33,\n",
       " 10.33,\n",
       " 10.34,\n",
       " 10.34,\n",
       " 10.51,\n",
       " 10.59,\n",
       " 10.63,\n",
       " 10.65,\n",
       " 10.77,\n",
       " 11.02,\n",
       " 11.17,\n",
       " 11.24,\n",
       " 11.35,\n",
       " 11.38,\n",
       " 11.59,\n",
       " 11.61,\n",
       " 11.69,\n",
       " 11.87,\n",
       " 12.02,\n",
       " 12.03,\n",
       " 12.16,\n",
       " 12.26,\n",
       " 12.43,\n",
       " 12.46,\n",
       " 12.48,\n",
       " 12.54,\n",
       " 12.6,\n",
       " 12.66,\n",
       " 12.69,\n",
       " 12.74,\n",
       " 12.76,\n",
       " 12.9,\n",
       " 13.0,\n",
       " 13.0,\n",
       " 13.03,\n",
       " 13.13,\n",
       " 13.16,\n",
       " 13.27,\n",
       " 13.28,\n",
       " 13.37,\n",
       " 13.39,\n",
       " 13.42,\n",
       " 13.42,\n",
       " 13.42,\n",
       " 13.51,\n",
       " 13.81,\n",
       " 13.81,\n",
       " 13.94,\n",
       " 14.0,\n",
       " 14.07,\n",
       " 14.15,\n",
       " 14.26,\n",
       " 14.31,\n",
       " 14.48,\n",
       " 14.52,\n",
       " 14.73,\n",
       " 14.78,\n",
       " 14.83,\n",
       " 15.01,\n",
       " 15.04,\n",
       " 15.06,\n",
       " 15.36,\n",
       " 15.38,\n",
       " 15.42,\n",
       " 15.48,\n",
       " 15.53,\n",
       " 15.69,\n",
       " 15.69,\n",
       " 15.77,\n",
       " 15.81,\n",
       " 15.95,\n",
       " 15.98,\n",
       " 15.98,\n",
       " 16.0,\n",
       " 16.04,\n",
       " 16.21,\n",
       " 16.27,\n",
       " 16.29,\n",
       " 16.31,\n",
       " 16.32,\n",
       " 16.4,\n",
       " 16.43,\n",
       " 16.45,\n",
       " 16.47,\n",
       " 16.49,\n",
       " 16.58,\n",
       " 16.66,\n",
       " 16.82,\n",
       " 16.93,\n",
       " 16.97,\n",
       " 16.99,\n",
       " 17.07,\n",
       " 17.26,\n",
       " 17.29,\n",
       " 17.31,\n",
       " 17.46,\n",
       " 17.47,\n",
       " 17.51,\n",
       " 17.59,\n",
       " 17.78,\n",
       " 17.81,\n",
       " 17.82,\n",
       " 17.89,\n",
       " 17.92,\n",
       " 17.92,\n",
       " 18.04,\n",
       " 18.15,\n",
       " 18.24,\n",
       " 18.26,\n",
       " 18.28,\n",
       " 18.29,\n",
       " 18.29,\n",
       " 18.35,\n",
       " 18.43,\n",
       " 18.64,\n",
       " 18.69,\n",
       " 18.71,\n",
       " 18.78,\n",
       " 19.08,\n",
       " 19.44,\n",
       " 19.49,\n",
       " 19.65,\n",
       " 19.77,\n",
       " 19.81,\n",
       " 19.82,\n",
       " 20.08,\n",
       " 20.23,\n",
       " 20.27,\n",
       " 20.29,\n",
       " 20.29,\n",
       " 20.45,\n",
       " 20.49,\n",
       " 20.53,\n",
       " 20.65,\n",
       " 20.69,\n",
       " 20.69,\n",
       " 20.76,\n",
       " 20.9,\n",
       " 20.92,\n",
       " 21.01,\n",
       " 21.01,\n",
       " 21.16,\n",
       " 21.5,\n",
       " 21.58,\n",
       " 21.7,\n",
       " 22.12,\n",
       " 22.23,\n",
       " 22.42,\n",
       " 22.49,\n",
       " 22.67,\n",
       " 22.75,\n",
       " 22.76,\n",
       " 22.82,\n",
       " 23.1,\n",
       " 23.17,\n",
       " 23.33,\n",
       " 23.68,\n",
       " 23.95,\n",
       " 24.01,\n",
       " 24.06,\n",
       " 24.08,\n",
       " 24.27,\n",
       " 24.52,\n",
       " 24.55,\n",
       " 24.59,\n",
       " 24.71,\n",
       " 25.0,\n",
       " 25.21,\n",
       " 25.28,\n",
       " 25.29,\n",
       " 25.56,\n",
       " 25.71,\n",
       " 25.89,\n",
       " 26.41,\n",
       " 26.59,\n",
       " 26.86,\n",
       " 26.88,\n",
       " 27.05,\n",
       " 27.18,\n",
       " 27.2,\n",
       " 27.28,\n",
       " 28.15,\n",
       " 28.17,\n",
       " 28.44,\n",
       " 28.55,\n",
       " 28.97,\n",
       " 29.03,\n",
       " 29.8,\n",
       " 29.85,\n",
       " 29.93,\n",
       " 30.06,\n",
       " 30.14,\n",
       " 30.4,\n",
       " 30.46,\n",
       " 31.27,\n",
       " 31.71,\n",
       " 31.85,\n",
       " 32.4,\n",
       " 32.68,\n",
       " 32.83,\n",
       " 32.9,\n",
       " 34.3,\n",
       " 34.63,\n",
       " 34.65,\n",
       " 34.81,\n",
       " 34.83,\n",
       " 35.26,\n",
       " 35.83,\n",
       " 38.01,\n",
       " 38.07,\n",
       " 38.73,\n",
       " 39.42,\n",
       " 40.17,\n",
       " 40.55,\n",
       " 41.19,\n",
       " 43.11,\n",
       " 44.3,\n",
       " 45.35,\n",
       " 48.17,\n",
       " 48.27,\n",
       " 48.33,\n",
       " 50.81]"
      ]
     },
     "execution_count": 45,
     "metadata": {},
     "output_type": "execute_result"
    }
   ],
   "source": [
    "df_total_bills=sorted(df_total_bills)\n",
    "df_total_bills"
   ]
  },
  {
   "cell_type": "code",
   "execution_count": 47,
   "id": "e5f9f409",
   "metadata": {},
   "outputs": [],
   "source": [
    "q1,q3=np.percentile(df_total_bills,[24,75])"
   ]
  },
  {
   "cell_type": "code",
   "execution_count": 48,
   "id": "2c99dea7",
   "metadata": {},
   "outputs": [
    {
     "name": "stdout",
     "output_type": "stream",
     "text": [
      "13.1952 24.127499999999998\n"
     ]
    }
   ],
   "source": [
    "print(q1,q3)"
   ]
  },
  {
   "cell_type": "code",
   "execution_count": 49,
   "id": "efbb4411",
   "metadata": {},
   "outputs": [],
   "source": [
    "# find lower fence and higher fence "
   ]
  },
  {
   "cell_type": "code",
   "execution_count": 50,
   "id": "e92abe9e",
   "metadata": {},
   "outputs": [],
   "source": [
    "iqr=q3-q1"
   ]
  },
  {
   "cell_type": "code",
   "execution_count": 51,
   "id": "73cf2a37",
   "metadata": {},
   "outputs": [],
   "source": [
    "lower_fence=q1-(1.5*iqr)\n",
    "higher_fence=q3+(1.5*iqr)"
   ]
  },
  {
   "cell_type": "code",
   "execution_count": 53,
   "id": "0215c37c",
   "metadata": {},
   "outputs": [
    {
     "name": "stdout",
     "output_type": "stream",
     "text": [
      "-3.203249999999997\n",
      "40.525949999999995\n"
     ]
    }
   ],
   "source": [
    "print(lower_fence)\n",
    "print(higher_fence)"
   ]
  },
  {
   "cell_type": "code",
   "execution_count": 59,
   "id": "e6e00177",
   "metadata": {},
   "outputs": [],
   "source": [
    "# df['total_bill'].describe()"
   ]
  },
  {
   "cell_type": "markdown",
   "id": "7aaa013a",
   "metadata": {},
   "source": [
    "# "
   ]
  },
  {
   "cell_type": "code",
   "execution_count": null,
   "id": "5c3a4e28",
   "metadata": {},
   "outputs": [],
   "source": []
  }
 ],
 "metadata": {
  "kernelspec": {
   "display_name": "Python 3 (ipykernel)",
   "language": "python",
   "name": "python3"
  },
  "language_info": {
   "codemirror_mode": {
    "name": "ipython",
    "version": 3
   },
   "file_extension": ".py",
   "mimetype": "text/x-python",
   "name": "python",
   "nbconvert_exporter": "python",
   "pygments_lexer": "ipython3",
   "version": "3.11.5"
  }
 },
 "nbformat": 4,
 "nbformat_minor": 5
}
